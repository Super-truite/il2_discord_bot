{
 "cells": [
  {
   "cell_type": "code",
   "execution_count": 50,
   "metadata": {},
   "outputs": [],
   "source": [
    "# -*- coding: utf-8 -*-\n",
    "S = 'STATUS=1&playerList=cId%2cingameStatus%2cnServerPing%2cname%2cplayerId%2cprofileId%7c0%2c0%2c10%2cserveraxel%2c2e21acff%252d655a%252d4f29%252dbc7e%252dddd959be57f9%2cce561ca5%252d6fc1%252d42d1%252d93a1%252d5b8ad8100d8c%7c1%2c0%2c10%2csuper%252dtruite%2c129d1b60%252d694b%252d4144%252db7fd%252d61ca8efa2c25%2cdea166e5%252d4279%252d471e%252db631%252d25b0a764b118'"
   ]
  },
  {
   "cell_type": "code",
   "execution_count": 30,
   "metadata": {},
   "outputs": [],
   "source": [
    "S = 'cId,ingameStatus,nServerPing,name,playerId,profileId|0,0,10,serveraxel,2e21acff%2d655a%2d4f29%2dbc7e%2dddd959be57f9,ce561ca5%2d6fc1%2d42d1%2d93a1%2d5b8ad8100d8c|1,0,10,super%2dtruite,129d1b60%2d694b%2d4144%2db7fd%2d61ca8efa2c25,dea166e5%2d4279%2d471e%2db631%2d25b0a764b118'"
   ]
  },
  {
   "cell_type": "code",
   "execution_count": 54,
   "metadata": {},
   "outputs": [],
   "source": [
    "import pandas as pd\n",
    "def to_df(s):\n",
    "    s = urllib.parse.unquote(s)\n",
    "    a = s.split('|')\n",
    "    header = a[0].split(',')\n",
    "    d = {k: [] for k in header}\n",
    "    for row in a[2:]:\n",
    "        row = row.split(',')\n",
    "        for i, k in enumerate(d.keys()):\n",
    "            d[k].append(row[i]) \n",
    "       \n",
    "    return pd.DataFrame(d)\n",
    "\n",
    "def to_ascii_table(s):\n",
    "    df = to_df(s)\n",
    "    df = df.drop(columns=['playerId', 'profileId']) \n",
    "    return \"```{}```\".format(str(tabulate(df, tablefmt=\"pipe\", headers=\"keys\")))\n"
   ]
  },
  {
   "cell_type": "code",
   "execution_count": 56,
   "metadata": {},
   "outputs": [
    {
     "name": "stdout",
     "output_type": "stream",
     "text": [
      "1\n",
      "```|    |   cId |   ingameStatus |   nServerPing | name         |\n",
      "|---:|------:|---------------:|--------------:|:-------------|\n",
      "|  0 |     1 |              0 |            10 | super-truite |```\n"
     ]
    }
   ],
   "source": [
    "import pandas as pd\n",
    "def to_df(s):\n",
    "    s = urllib.parse.unquote(s)\n",
    "    a = s.split('|')\n",
    "    header = a[0].split(',')\n",
    "    d = {k: [] for k in header}\n",
    "    for row in a[2:]:\n",
    "        row = row.split(',')\n",
    "        for i, k in enumerate(d.keys()):\n",
    "            d[k].append(row[i]) \n",
    "       \n",
    "    return pd.DataFrame(d)\n",
    "\n",
    "def to_ascii_table(s):\n",
    "    df = to_df(s)\n",
    "    df = df.drop(columns=['playerId', 'profileId']) \n",
    "    return \"```{}```\".format(str(tabulate(df, tablefmt=\"pipe\", headers=\"keys\")))\n",
    "S = urllib.parse.unquote(S)\n",
    "for s in S.split('&'):\n",
    "    a = s.split('=')\n",
    "    if '|' in a[1]:\n",
    "        print(to_ascii_table(a[1]))\n",
    "    else:\n",
    "        print(a[1])"
   ]
  },
  {
   "cell_type": "code",
   "execution_count": 7,
   "metadata": {},
   "outputs": [],
   "source": [
    "import urllib.parse"
   ]
  },
  {
   "cell_type": "code",
   "execution_count": 30,
   "metadata": {},
   "outputs": [
    {
     "data": {
      "text/plain": [
       "'cId,ingameStatus,nServerPing,name,playerId,profileId|0,0,10,serveraxel,2e21acff-655a-4f29-bc7e-ddd959be57f9,ce561ca5-6fc1-42d1-93a1-5b8ad8100d8c|1,0,10,super-truite,129d1b60-694b-4144-b7fd-61ca8efa2c25,dea166e5-4279-471e-b631-25b0a764b118'"
      ]
     },
     "execution_count": 30,
     "metadata": {},
     "output_type": "execute_result"
    }
   ],
   "source": [
    "urllib.parse.unquote(S)"
   ]
  },
  {
   "cell_type": "code",
   "execution_count": 33,
   "metadata": {},
   "outputs": [],
   "source": [
    "a = urllib.parse.parse_qsl(S)"
   ]
  },
  {
   "cell_type": "code",
   "execution_count": null,
   "metadata": {},
   "outputs": [],
   "source": [
    "urllib.parse.unquote(S)"
   ]
  },
  {
   "cell_type": "code",
   "execution_count": 2,
   "metadata": {},
   "outputs": [
    {
     "ename": "AttributeError",
     "evalue": "'str' object has no attribute 'decode'",
     "output_type": "error",
     "traceback": [
      "\u001b[1;31m---------------------------------------------------------------------------\u001b[0m",
      "\u001b[1;31mAttributeError\u001b[0m                            Traceback (most recent call last)",
      "\u001b[1;32m<ipython-input-2-a30a421a77fe>\u001b[0m in \u001b[0;36m<module>\u001b[1;34m\u001b[0m\n\u001b[0;32m      1\u001b[0m \u001b[1;32mimport\u001b[0m \u001b[0murllib\u001b[0m\u001b[1;33m\u001b[0m\u001b[1;33m\u001b[0m\u001b[0m\n\u001b[1;32m----> 2\u001b[1;33m \u001b[0murllib\u001b[0m\u001b[1;33m.\u001b[0m\u001b[0mparse\u001b[0m\u001b[1;33m.\u001b[0m\u001b[0munquote\u001b[0m\u001b[1;33m(\u001b[0m\u001b[0mstr\u001b[0m\u001b[1;33m(\u001b[0m\u001b[0mS\u001b[0m\u001b[1;33m)\u001b[0m\u001b[1;33m)\u001b[0m\u001b[1;33m.\u001b[0m\u001b[0mdecode\u001b[0m\u001b[1;33m(\u001b[0m\u001b[1;34m'utf-8'\u001b[0m\u001b[1;33m,\u001b[0m \u001b[1;34m'ignore'\u001b[0m\u001b[1;33m)\u001b[0m\u001b[1;33m\u001b[0m\u001b[1;33m\u001b[0m\u001b[0m\n\u001b[0m",
      "\u001b[1;31mAttributeError\u001b[0m: 'str' object has no attribute 'decode'"
     ]
    }
   ],
   "source": [
    "import urllib\n",
    "urllib.parse.unquote(str(S)).decode('utf-8', 'ignore')"
   ]
  },
  {
   "cell_type": "code",
   "execution_count": 3,
   "metadata": {},
   "outputs": [
    {
     "name": "stdout",
     "output_type": "stream",
     "text": [
      "| weekday   |   temperature |   precipitation |\n",
      "|:----------|--------------:|----------------:|\n",
      "| monday    |            20 |             100 |\n",
      "| thursday  |            30 |             200 |\n",
      "| wednesday |            25 |             150 |\n"
     ]
    }
   ],
   "source": [
    "from pandas import DataFrame\n",
    "from tabulate import tabulate\n",
    "\n",
    "df = DataFrame({\n",
    "    \"weekday\": [\"monday\", \"thursday\", \"wednesday\"],\n",
    "    \"temperature\": [20, 30, 25],\n",
    "    \"precipitation\": [100, 200, 150],\n",
    "}).set_index(\"weekday\")\n",
    "\n",
    "print(tabulate(df, tablefmt=\"pipe\", headers=\"keys\"))"
   ]
  },
  {
   "cell_type": "code",
   "execution_count": null,
   "metadata": {},
   "outputs": [],
   "source": []
  }
 ],
 "metadata": {
  "kernelspec": {
   "display_name": "Python 3",
   "language": "python",
   "name": "python3"
  },
  "language_info": {
   "codemirror_mode": {
    "name": "ipython",
    "version": 3
   },
   "file_extension": ".py",
   "mimetype": "text/x-python",
   "name": "python",
   "nbconvert_exporter": "python",
   "pygments_lexer": "ipython3",
   "version": "3.7.1"
  }
 },
 "nbformat": 4,
 "nbformat_minor": 2
}
